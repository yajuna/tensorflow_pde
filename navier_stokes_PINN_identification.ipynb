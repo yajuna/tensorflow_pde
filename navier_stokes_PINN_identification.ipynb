{
  "nbformat": 4,
  "nbformat_minor": 0,
  "metadata": {
    "colab": {
      "provenance": [],
      "authorship_tag": "ABX9TyNsOAJ1N6/qy6s/FYLCtVJQ",
      "include_colab_link": true
    },
    "kernelspec": {
      "name": "python3",
      "display_name": "Python 3"
    },
    "language_info": {
      "name": "python"
    }
  },
  "cells": [
    {
      "cell_type": "markdown",
      "metadata": {
        "id": "view-in-github",
        "colab_type": "text"
      },
      "source": [
        "<a href=\"https://colab.research.google.com/github/yajuna/tensorflow_pde/blob/master/navier_stokes_PINN_identification.ipynb\" target=\"_parent\"><img src=\"https://colab.research.google.com/assets/colab-badge.svg\" alt=\"Open In Colab\"/></a>"
      ]
    },
    {
      "cell_type": "markdown",
      "source": [
        "# This work is based on the methodology originally developed by [Raissi](https://github.com/maziarraissi/PINNs/blob/master/main/continuous_time_identification%20(Navier-Stokes)/NavierStokes.py), and the Tensorflow 2.0 modification by [Blechschmidt](https://github.com/janblechschmidt/PDEsByNNs) and [pierremtb ](https://github.com/pierremtb/PINNs-TF2.0).\n",
        "\n",
        "A Tensorflow 2.0 implementation of the inference problem for the Navier Stokes equation is [here](https://github.com/yajuna/tensorflow_pde/blob/master/navier_stokes_PINN_Solver.ipynb). This notebook is a Tensorflow 2.0 implementation of the Navier Stokes identification problem. We run this notebook with the original data provided by the author to test our implementation for the inference problem. This code is modified from [the heat identification code](https://github.com/yajuna/tensorflow_pde/blob/master/Heat_equation_with_tensorflow.ipynb)"
      ],
      "metadata": {
        "id": "VXtYqqellzJF"
      }
    },
    {
      "cell_type": "code",
      "source": [
        "import tensorflow as tf\n",
        "import numpy as np\n",
        "import matplotlib.pyplot as plt\n",
        "import pandas\n",
        "import scipy.io\n",
        "\n",
        "from time import time\n",
        "\n",
        "from IPython.display import clear_output\n",
        "\n",
        "tf.experimental.numpy.experimental_enable_numpy_behavior()\n",
        "\n",
        "clear_output()"
      ],
      "metadata": {
        "id": "fuZGtDwTqSfJ"
      },
      "execution_count": 51,
      "outputs": []
    },
    {
      "cell_type": "markdown",
      "source": [
        "## Get data for Navier Stokes"
      ],
      "metadata": {
        "id": "rXjg964rQD_F"
      }
    },
    {
      "cell_type": "code",
      "source": [
        "!git clone https://github.com/maziarraissi/PINNs"
      ],
      "metadata": {
        "colab": {
          "base_uri": "https://localhost:8080/"
        },
        "id": "8exWF5rNqrPF",
        "outputId": "d6fe22d0-c591-408a-8135-a3dd6b5702ae"
      },
      "execution_count": 52,
      "outputs": [
        {
          "output_type": "stream",
          "name": "stdout",
          "text": [
            "fatal: destination path 'PINNs' already exists and is not an empty directory.\n"
          ]
        }
      ]
    },
    {
      "cell_type": "code",
      "source": [
        "import os\n",
        "import sys\n",
        "\n",
        "# \".\" for Colab/VSCode, and \"..\" for GitHub\n",
        "repoPath = os.path.join(\".\", \"PINNs\")\n",
        "# repoPath = os.path.join(\"..\", \"PINNs\")\n",
        "utilsPath = os.path.join(repoPath, \"Utilities\")\n",
        "dataPath = os.path.join(repoPath, \"main\", \"Data\")\n",
        "appDataPath = os.path.join(repoPath, \"appendix\", \"Data\")"
      ],
      "metadata": {
        "id": "WfPE290ZrG2-"
      },
      "execution_count": 53,
      "outputs": []
    },
    {
      "cell_type": "code",
      "source": [
        "# Set data type\n",
        "DTYPE='float32'\n",
        "tf.keras.backend.set_floatx(DTYPE)\n",
        "\n",
        "# Set random seed for reproducible results\n",
        "tf.random.set_seed(0)"
      ],
      "metadata": {
        "id": "LYUP9e9v5Rug"
      },
      "execution_count": 54,
      "outputs": []
    },
    {
      "cell_type": "code",
      "source": [
        "N_train = 5000\n",
        "\n",
        "path = os.path.join(dataPath, \"cylinder_nektar_wake.mat\")\n",
        "data = scipy.io.loadmat(path)\n",
        "\n",
        "# define training and testing data\n",
        "U_star = data['U_star'] # N x 2 x T\n",
        "P_star = data['p_star'] # N x T\n",
        "t_star = data['t'] # T x 1\n",
        "X_star = data['X_star'] # N x 2\n",
        "\n",
        "# print('X_star start and end; t_star start and end', X_star[0], X_star[-1], t_star[0], t_star[-1])\n",
        "\n",
        "N = X_star.shape[0]\n",
        "T = t_star.shape[0]\n",
        "\n",
        "#Rearrange Data\n",
        "XX = np.tile(X_star[:,0:1], (1,T)) # N x T\n",
        "YY = np.tile(X_star[:,1:2], (1,T)) # N x T\n",
        "TT = np.tile(t_star, (1,N)).T # N x T\n",
        "\n",
        "UU = U_star[:,0,:] # N x T\n",
        "VV = U_star[:,1,:] # N x T\n",
        "PP = P_star # N x T\n",
        "\n",
        "x = XX.flatten()[:,None] # NT x 1\n",
        "y = YY.flatten()[:,None] # NT x 1\n",
        "t = TT.flatten()[:,None] # NT x 1\n",
        "\n",
        "u = UU.flatten()[:,None] # NT x 1\n",
        "v = VV.flatten()[:,None] # NT x 1\n",
        "p = PP.flatten()[:,None] # NT x 1\n",
        "\n",
        "######################################################################\n",
        "######################## Noiseles Data ###############################\n",
        "######################################################################\n",
        "# Training Data\n",
        "idx = np.random.choice(N*T, N_train, replace=False)\n",
        "x_train = x[idx,:]\n",
        "y_train = y[idx,:]\n",
        "t_train = t[idx,:]\n",
        "u_train = u[idx,:]\n",
        "v_train = v[idx,:]\n",
        "p_train = p[idx,:]\n",
        "\n",
        "# Test Data\n",
        "snap = np.array([100])\n",
        "x_star = X_star[:,0:1]\n",
        "y_star = X_star[:,1:2]\n",
        "t_star = TT[:,snap]\n",
        "\n",
        "u_star = U_star[:,0,snap]\n",
        "v_star = U_star[:,1,snap]\n",
        "p_star = P_star[:,snap]\n",
        "\n",
        "# make training and testing data\n",
        "X = tf.concat([x_train,y_train,t_train], axis = 1)\n",
        "data = tf.concat([u_train,v_train,p_train], axis = 1)\n",
        "\n",
        "# print(x.min())\n",
        "# print(x.max())\n",
        "# print(y.min())\n",
        "# print(y.max())\n",
        "# print(t.min())\n",
        "# print(t.max())\n",
        "lb = tf.constant([x.min(), y.min(), t.min()],dtype = DTYPE)\n",
        "ub = tf.constant([x.max(), y.max(), t.max()],dtype = DTYPE)\n",
        "\n",
        "X_test = tf.concat([x_star,y_star,t_star], axis = 1)\n",
        "data_test = tf.concat([u_star,v_star,p_star], axis = 1)\n",
        "\n",
        "# print(X.size, data.size)"
      ],
      "metadata": {
        "id": "Ifq23Johr2J-"
      },
      "execution_count": 55,
      "outputs": []
    },
    {
      "cell_type": "code",
      "source": [
        "# ################### load data from google drive\n",
        "# \"\"\"\n",
        "# To load data from Google Drive, download data from\n",
        "# https://github.com/maziarraissi/PINNs/tree/master/main/Data\n",
        "# and save it in a folder called \"data\" in your Google drive\n",
        "# \"\"\"\n",
        "# from google.colab import drive\n",
        "# drive.mount('/content/drive')\n",
        "# data = scipy.io.loadmat('/content/drive/My Drive/data/cylinder_nektar_wake.mat')"
      ],
      "metadata": {
        "id": "vB6m2Fx1QIBN"
      },
      "execution_count": 56,
      "outputs": []
    },
    {
      "cell_type": "code",
      "source": [
        "# Define model architecture\n",
        "\n",
        "class PINN_NeuralNet(tf.keras.Model):\n",
        "  \"\"\"Basic architecture of the PINN model\n",
        "  input dimension = 3, for x, y, t\n",
        "  output dimension = 1 for u, v, and p concatenated\n",
        "  \"\"\"\n",
        "\n",
        "  def __init__(self, lb, ub,\n",
        "               output_dim = 1,\n",
        "               num_hidden_layers = 8,\n",
        "               num_neurons_per_layer = 20,\n",
        "               activation = 'tanh',\n",
        "               kernel_initializer = 'glorot_normal',\n",
        "               **kwargs):\n",
        "    super().__init__(**kwargs)\n",
        "\n",
        "    self.num_hidden_layers = num_hidden_layers\n",
        "    self.output_dim = output_dim\n",
        "\n",
        "    self.lb = lb\n",
        "    self.ub = ub\n",
        "\n",
        "    # X = tf.concat([x,y,t], axis=1)\n",
        "    # self.lb = X.min(0)\n",
        "    # self.ub = X.max(0)\n",
        "    # self.X = X\n",
        "    # self.x = x\n",
        "    # self.y = y\n",
        "    # self.t = t\n",
        "    # self.u = u\n",
        "    # self.v = v\n",
        "\n",
        "    # Define NN architecture\n",
        "    self.scale = tf.keras.layers.Lambda(\n",
        "            lambda x: 2.0*(x - self.lb)/(self.ub - self.lb) - 1.0)\n",
        "    self.hidden = [tf.keras.layers.Dense(num_neurons_per_layer,\n",
        "                             activation=tf.keras.activations.get(activation),\n",
        "                             kernel_initializer=kernel_initializer)\n",
        "                           for _ in range(self.num_hidden_layers)]\n",
        "    self.out = tf.keras.layers.Dense(output_dim)\n",
        "\n",
        "  def call(self, X):\n",
        "    \"\"\"\n",
        "    Forward-pass thru NN\n",
        "    \"\"\"\n",
        "    Z = self.scale(X)\n",
        "    for i in range(self.num_hidden_layers):\n",
        "      Z = self.hidden[i](Z)\n",
        "    return self.out(Z)"
      ],
      "metadata": {
        "id": "zYzfUI9wtBRW"
      },
      "execution_count": 57,
      "outputs": []
    },
    {
      "cell_type": "markdown",
      "source": [
        "### Two parameters to identify"
      ],
      "metadata": {
        "id": "EZ2klcVdx-T3"
      }
    },
    {
      "cell_type": "code",
      "source": [
        "class PINNIdentificationNet(PINN_NeuralNet):\n",
        "    def __init__(self, *args, **kwargs):\n",
        "\n",
        "        # Call init of base class\n",
        "        super().__init__(*args,**kwargs)\n",
        "\n",
        "        # Initialize variable for lambda\n",
        "\n",
        "        self.lambd1 = tf.Variable(1.0, trainable=True, dtype=DTYPE)\n",
        "        self.lambd1_list = []\n",
        "\n",
        "        self.lambd2 = tf.Variable(1.0, trainable=True, dtype=DTYPE)\n",
        "        self.lambd2_list = []"
      ],
      "metadata": {
        "id": "MHfKtKPptIAf"
      },
      "execution_count": 58,
      "outputs": []
    },
    {
      "cell_type": "markdown",
      "source": [
        "## Major modification in PINNSolver- Change dimensions of input and output variables\n",
        "\n",
        "### to do\n",
        "- use original data from Raissi\n",
        "\n",
        "- change variable names\n",
        "\n",
        "- run on HYAK"
      ],
      "metadata": {
        "id": "sctjRp720ikd"
      }
    },
    {
      "cell_type": "code",
      "source": [
        "class PINNSolver():\n",
        "    def __init__(self, model, X_r):\n",
        "        self.model = model\n",
        "\n",
        "        # Store collocation points, separate t and x\n",
        "        self.x = X_r[:,0:1]\n",
        "        self.y = X_r[:,1:2]\n",
        "        self.t = X_r[:,2:3]\n",
        "\n",
        "        # Initialize history of losses and global iteration counter\n",
        "        self.hist = []\n",
        "        self.iter = 0\n",
        "\n",
        "# differentiate to compute residual of PDE, physics information\n",
        "    def get_r(self):\n",
        "\n",
        "        with tf.GradientTape(persistent=True) as tape:\n",
        "            # Watch variables representing t and x during this GradientTape\n",
        "            tape.watch(self.x)\n",
        "            tape.watch(self.y)\n",
        "            tape.watch(self.t)\n",
        "\n",
        "            # compute current psi and p\n",
        "            pp = self.model(tf.stack([self.x[:,0], self.y[:,0],self.t[:,0]], axis=1))\n",
        "            psi = pp[:,0:1]\n",
        "            p = pp[:,1:2]\n",
        "\n",
        "            # Compute gradients\n",
        "            u = tape.gradient(psi, self.y)\n",
        "            v = -tape.gradient(psi, self.x)\n",
        "\n",
        "            u_x = tape.gradient(u, self.x)\n",
        "            u_y = tape.gradient(u, self.y)\n",
        "\n",
        "            v_x = tape.gradient(v, self.x)\n",
        "            v_y = tape.gradient(v, self.y)\n",
        "\n",
        "\n",
        "\n",
        "        p_x = tape.gradient(p, self.x)\n",
        "        p_y = tape.gradient(p, self.y)\n",
        "\n",
        "        u_t = tape.gradient(u, self.t)\n",
        "        u_xx = tape.gradient(u_x, self.x)\n",
        "        u_yy = tape.gradient(u_y, self.y)\n",
        "\n",
        "        v_t = tape.gradient(v, self.t)\n",
        "        v_xx = tape.gradient(v_x, self.x)\n",
        "        v_yy = tape.gradient(v_y, self.y)\n",
        "\n",
        "        del tape\n",
        "\n",
        "        return self.fun_r(u, u_t, u_x, u_y, u_xx, u_yy, v, v_t, v_x, v_y, v_xx, v_yy, p_x, p_y)\n",
        "\n",
        "# compute loss function- physics information + computational error\n",
        "    def loss_fn(self, X, data):\n",
        "\n",
        "        # Compute phi_r from model and X_r\n",
        "        r = self.get_r()\n",
        "        phi_r = tf.reduce_mean(tf.square(r))\n",
        "\n",
        "        # Initialize loss\n",
        "        loss = phi_r\n",
        "\n",
        "        # compute loss at input data- concatenated u, v, p minus computed u, v, p\n",
        "        data_pred = self.model(X)\n",
        "        loss += tf.reduce_mean(tf.square(data - data_pred))\n",
        "\n",
        "        return loss\n",
        "\n",
        "\n",
        "# from the model, get model trainable variables and keep for gradient descent\n",
        "    def get_grad(self, X, data):\n",
        "        with tf.GradientTape(persistent=True) as tape:\n",
        "            # This tape is for derivatives with\n",
        "            # respect to trainable variables\n",
        "            tape.watch(self.model.trainable_variables)\n",
        "            loss = self.loss_fn(X, data)\n",
        "\n",
        "        g = tape.gradient(loss, self.model.trainable_variables)\n",
        "        del tape\n",
        "\n",
        "        return loss, g\n",
        "\n",
        "# compute residual from the neural net; physics information\n",
        "    def fun_r(self, u, u_t, u_x, u_y, u_xx, u_yy, v, v_t, v_x, v_y, v_xx, v_yy, p_x, p_y):\n",
        "        \"\"\"Residual of the PDE\"\"\"\n",
        "        f = u_t + self.model.lambd1 * (u * u_x + v * u_y) + p_x - self.model.lambd2 * (u_xx + u_yy)\n",
        "        g = v_t + self.model.lambd1 * (u * v_x + v * v_y) + p_y - self.model.lambd2 * (v_xx + v_yy)\n",
        "        return tf.concat([f, g], axis=1)\n",
        "\n",
        "    def solve_with_TFoptimizer(self, optimizer, X, data, N=1001):\n",
        "        \"\"\"This method performs a gradient descent type optimization.\"\"\"\n",
        "\n",
        "        @tf.function\n",
        "        def train_step():\n",
        "            loss, grad_theta = self.get_grad(X, data)\n",
        "\n",
        "            # Perform gradient descent step\n",
        "            optimizer.apply_gradients(zip(grad_theta, self.model.trainable_variables))\n",
        "            return loss\n",
        "\n",
        "        for i in range(N):\n",
        "\n",
        "            loss = train_step()\n",
        "\n",
        "            self.current_loss = loss.numpy()\n",
        "            self.callback()\n",
        "\n",
        "    def callback(self, xr=None):\n",
        "        lambd1 = self.model.lambd1.numpy()\n",
        "        self.model.lambd1_list.append(lambd1)\n",
        "\n",
        "        lambd2 = self.model.lambd2.numpy()\n",
        "        self.model.lambd2_list.append(lambd2)\n",
        "\n",
        "        if self.iter % 100 == 0:\n",
        "            print('It {:05d}: loss = {:10.8e} lambda1 = {:10.8e} lambda2 = {:10.8e}'.format(self.iter, self.current_loss, lambd1, lambd2))\n",
        "\n",
        "        self.hist.append(self.current_loss)\n",
        "        self.iter += 1\n",
        "\n",
        "\n",
        "    # def plot_solution(self, **kwargs):\n",
        "    #     N = 411\n",
        "    #     tspace = np.linspace(self.model.lb[0], self.model.ub[0], N)\n",
        "    #     xspace = np.linspace(self.model.lb[1], self.model.ub[1], N)\n",
        "    #     yspace = np.linspace(self.model.lb[2], self.model.ub[2], N)\n",
        "    #     T, X, Y = np.meshgrid(tspace, xspace, yspace)\n",
        "    #     Xgrid = np.vstack([T.flatten(),X.flatten(),Y.flatten()]).T\n",
        "    #     upred = self.model(tf.cast(Xgrid,DTYPE))\n",
        "    #     U = upred.numpy().reshape(N,N)\n",
        "    #     fig = plt.figure(figsize=(9,6))\n",
        "    #     ax = fig.add_subplot(111, projection='3d')\n",
        "    #     ax.plot_surface(T, X, Y, U, cmap='viridis', **kwargs)\n",
        "    #     ax.set_xlabel('$t$')\n",
        "    #     ax.set_ylabel('$x$')\n",
        "    #     ax.set_zlabel('$u_\\\\theta(t,x)$')\n",
        "    #     ax.view_init(35,35)\n",
        "    #     return ax\n",
        "\n",
        "    def plot_loss_history(self, ax=None):\n",
        "        if not ax:\n",
        "            fig = plt.figure(figsize=(7,5))\n",
        "            ax = fig.add_subplot(111)\n",
        "        ax.semilogy(range(len(self.hist)), self.hist,'k-')\n",
        "        ax.set_xlabel('$n_{epoch}$')\n",
        "        ax.set_ylabel('$\\\\phi^{n_{epoch}}$')\n",
        "        return ax\n",
        "\n",
        "    def plot_loss_and_param(self, axs=None):\n",
        "        if axs:\n",
        "            ax1, ax2 = axs\n",
        "            self.plot_loss_history(ax1)\n",
        "        else:\n",
        "            ax1 = self.plot_loss_history()\n",
        "            ax2 = ax1.twinx()  # instantiate a second axes that shares the same x-axis\n",
        "\n",
        "        # color = 'tab:blue'\n",
        "        ax2.tick_params(axis='y', labelcolor='tab:blue')\n",
        "        ax2.plot(range(len(self.hist)), self.model.lambd1_list,'-',color='tab:blue')\n",
        "        ax2.plot(range(len(self.hist)), self.model.lambd2_list,'-',color='tab:red')\n",
        "        ax2.set_ylabel('$\\\\lambda^{n_{epoch}}$', color='tab:blue')\n",
        "        return (ax1,ax2)"
      ],
      "metadata": {
        "id": "UBZF3jyotPAs"
      },
      "execution_count": 59,
      "outputs": []
    },
    {
      "cell_type": "code",
      "source": [
        "# initialize model\n",
        "model = PINNIdentificationNet(lb, ub, num_hidden_layers=2)\n",
        "model.build(input_shape=(None,3))\n",
        "\n",
        "# initialize PINN solver\n",
        "solver = PINNSolver(model, X_test)"
      ],
      "metadata": {
        "id": "BIqJTdChtQJc"
      },
      "execution_count": 60,
      "outputs": []
    },
    {
      "cell_type": "code",
      "source": [
        "lr = tf.keras.optimizers.schedules.PiecewiseConstantDecay([1000,3000],[1e-2,1e-3,5e-4])\n",
        "optim = tf.keras.optimizers.Adam(learning_rate=lr)\n",
        "\n",
        "# start timer\n",
        "t0 = time()\n",
        "\n",
        "solver.solve_with_TFoptimizer(optim, X, data, N=6001)\n",
        "\n",
        "# Print computation time\n",
        "print('\\nComputation time: {} seconds'.format(time()-t0))"
      ],
      "metadata": {
        "id": "ppvRGri9tW4T",
        "colab": {
          "base_uri": "https://localhost:8080/"
        },
        "outputId": "fae5ba83-a1a3-41e6-e076-2d51567f4ecd"
      },
      "execution_count": 61,
      "outputs": [
        {
          "output_type": "stream",
          "name": "stdout",
          "text": [
            "It 00000: loss = 3.67131616e-01 lambda1 = 1.00185812e+00 lambda2 = 9.90078211e-01\n",
            "It 00100: loss = 2.33947528e-01 lambda1 = 1.16906464e+00 lambda2 = 6.46001399e-01\n",
            "It 00200: loss = 2.27899517e-01 lambda1 = -6.80853352e-02 lambda2 = -7.26693077e-04\n",
            "It 00300: loss = 2.26637701e-01 lambda1 = -4.87732477e-02 lambda2 = 1.76996074e-03\n",
            "It 00400: loss = 2.25995766e-01 lambda1 = -3.28501649e-02 lambda2 = 1.08269171e-03\n",
            "It 00500: loss = 2.25869907e-01 lambda1 = -2.20294520e-02 lambda2 = 1.89486949e-03\n",
            "It 00600: loss = 2.25761958e-01 lambda1 = -1.73482671e-02 lambda2 = 6.69554051e-04\n",
            "It 00700: loss = 2.25613874e-01 lambda1 = -1.38715794e-02 lambda2 = 2.85027374e-04\n",
            "It 00800: loss = 2.25451176e-01 lambda1 = -1.28486957e-02 lambda2 = -7.70595871e-05\n",
            "It 00900: loss = 2.25335415e-01 lambda1 = -1.15111303e-02 lambda2 = 5.68230462e-04\n",
            "It 01000: loss = 2.25245177e-01 lambda1 = -1.15819676e-02 lambda2 = -1.29404303e-04\n",
            "It 01100: loss = 2.25238210e-01 lambda1 = -1.18450010e-02 lambda2 = -3.44548083e-04\n",
            "It 01200: loss = 2.25231709e-01 lambda1 = -1.18491901e-02 lambda2 = -3.51562776e-04\n",
            "It 01300: loss = 2.25225105e-01 lambda1 = -1.18557084e-02 lambda2 = -3.59759521e-04\n",
            "It 01400: loss = 2.25218460e-01 lambda1 = -1.18622854e-02 lambda2 = -3.68113397e-04\n",
            "It 01500: loss = 2.25211834e-01 lambda1 = -1.18674086e-02 lambda2 = -3.76582262e-04\n",
            "It 01600: loss = 2.25205291e-01 lambda1 = -1.18697686e-02 lambda2 = -3.85134947e-04\n",
            "It 01700: loss = 2.25198885e-01 lambda1 = -1.18681556e-02 lambda2 = -3.93723487e-04\n",
            "It 01800: loss = 2.25192664e-01 lambda1 = -1.18613336e-02 lambda2 = -4.02299833e-04\n",
            "It 01900: loss = 2.25186661e-01 lambda1 = -1.18482485e-02 lambda2 = -4.10814595e-04\n",
            "It 02000: loss = 2.25180891e-01 lambda1 = -1.18281906e-02 lambda2 = -4.19253309e-04\n",
            "It 02100: loss = 2.25175347e-01 lambda1 = -1.18008787e-02 lambda2 = -4.27648862e-04\n",
            "It 02200: loss = 2.25169998e-01 lambda1 = -1.17663229e-02 lambda2 = -4.36094328e-04\n",
            "It 02300: loss = 2.25164788e-01 lambda1 = -1.17251752e-02 lambda2 = -4.44759062e-04\n",
            "It 02400: loss = 2.25159648e-01 lambda1 = -1.16782747e-02 lambda2 = -4.53874323e-04\n",
            "It 02500: loss = 2.25154484e-01 lambda1 = -1.16266478e-02 lambda2 = -4.63733333e-04\n",
            "It 02600: loss = 2.25149191e-01 lambda1 = -1.15709016e-02 lambda2 = -4.74650355e-04\n",
            "It 02700: loss = 2.25143648e-01 lambda1 = -1.15107298e-02 lambda2 = -4.86930716e-04\n",
            "It 02800: loss = 2.25137720e-01 lambda1 = -1.14439707e-02 lambda2 = -5.00834372e-04\n",
            "It 02900: loss = 2.25131244e-01 lambda1 = -1.13656418e-02 lambda2 = -5.16523025e-04\n",
            "It 03000: loss = 2.25124029e-01 lambda1 = -1.12667521e-02 lambda2 = -5.34026942e-04\n",
            "It 03100: loss = 2.25119974e-01 lambda1 = -1.12043479e-02 lambda2 = -5.43570670e-04\n",
            "It 03200: loss = 2.25115556e-01 lambda1 = -1.11281611e-02 lambda2 = -5.53760503e-04\n",
            "It 03300: loss = 2.25110678e-01 lambda1 = -1.10337883e-02 lambda2 = -5.64557558e-04\n",
            "It 03400: loss = 2.25105269e-01 lambda1 = -1.09156389e-02 lambda2 = -5.75902115e-04\n",
            "It 03500: loss = 2.25099254e-01 lambda1 = -1.07668564e-02 lambda2 = -5.87697607e-04\n",
            "It 03600: loss = 2.25092559e-01 lambda1 = -1.05790291e-02 lambda2 = -5.99809282e-04\n",
            "It 03700: loss = 2.25085121e-01 lambda1 = -1.03427963e-02 lambda2 = -6.12057978e-04\n",
            "It 03800: loss = 2.25076903e-01 lambda1 = -1.00491755e-02 lambda2 = -6.24255044e-04\n",
            "It 03900: loss = 2.25067922e-01 lambda1 = -9.69130918e-03 lambda2 = -6.36224519e-04\n",
            "It 04000: loss = 2.25058261e-01 lambda1 = -9.26826522e-03 lambda2 = -6.47881068e-04\n",
            "It 04100: loss = 2.25048077e-01 lambda1 = -8.78889672e-03 lambda2 = -6.59299491e-04\n",
            "It 04200: loss = 2.25037557e-01 lambda1 = -8.27420969e-03 lambda2 = -6.70770998e-04\n",
            "It 04300: loss = 2.25026840e-01 lambda1 = -7.75580481e-03 lambda2 = -6.82712765e-04\n",
            "It 04400: loss = 2.25015929e-01 lambda1 = -7.26763299e-03 lambda2 = -6.95445051e-04\n",
            "It 04500: loss = 2.25004673e-01 lambda1 = -6.83420897e-03 lambda2 = -7.08856853e-04\n",
            "It 04600: loss = 2.24992839e-01 lambda1 = -6.46076677e-03 lambda2 = -7.22276163e-04\n",
            "It 04700: loss = 2.24980212e-01 lambda1 = -6.13026833e-03 lambda2 = -7.34586094e-04\n",
            "It 04800: loss = 2.24966663e-01 lambda1 = -5.81038743e-03 lambda2 = -7.44498393e-04\n",
            "It 04900: loss = 2.24952171e-01 lambda1 = -5.46657061e-03 lambda2 = -7.50695821e-04\n",
            "It 05000: loss = 2.24936865e-01 lambda1 = -5.07800840e-03 lambda2 = -7.52002234e-04\n",
            "It 05100: loss = 2.24921058e-01 lambda1 = -4.65107430e-03 lambda2 = -7.47772516e-04\n",
            "It 05200: loss = 2.24905180e-01 lambda1 = -4.22598841e-03 lambda2 = -7.38465576e-04\n",
            "It 05300: loss = 2.24889540e-01 lambda1 = -3.87411634e-03 lambda2 = -7.25814025e-04\n",
            "It 05400: loss = 2.24874353e-01 lambda1 = -3.67971254e-03 lambda2 = -7.11086905e-04\n",
            "It 05500: loss = 2.24859569e-01 lambda1 = -3.71805253e-03 lambda2 = -6.94800983e-04\n",
            "It 05600: loss = 2.24845407e-01 lambda1 = -3.99341201e-03 lambda2 = -6.78009586e-04\n",
            "It 05700: loss = 2.24831612e-01 lambda1 = -4.53429110e-03 lambda2 = -6.63103245e-04\n",
            "It 05800: loss = 2.24818112e-01 lambda1 = -5.28869219e-03 lambda2 = -6.45740714e-04\n",
            "It 05900: loss = 2.24804661e-01 lambda1 = -6.28489070e-03 lambda2 = -6.49392838e-04\n",
            "It 06000: loss = 2.24790954e-01 lambda1 = -7.46111711e-03 lambda2 = -6.24565815e-04\n",
            "\n",
            "Computation time: 414.3812952041626 seconds\n"
          ]
        }
      ]
    },
    {
      "cell_type": "code",
      "source": [
        "# solver.plot_solution();"
      ],
      "metadata": {
        "id": "2dRrbkuttZxB"
      },
      "execution_count": 62,
      "outputs": []
    },
    {
      "cell_type": "code",
      "source": [
        "solver.plot_loss_history();"
      ],
      "metadata": {
        "id": "1RCO0H91tiNH",
        "colab": {
          "base_uri": "https://localhost:8080/",
          "height": 467
        },
        "outputId": "e8d59742-2520-40cb-9f9a-02228aa0dbc8"
      },
      "execution_count": 63,
      "outputs": [
        {
          "output_type": "display_data",
          "data": {
            "text/plain": [
              "<Figure size 700x500 with 1 Axes>"
            ],
            "image/png": "[encoded data removed]"
          },
          "metadata": {}
        }
      ]
    },
    {
      "cell_type": "code",
      "source": [
        "solver.plot_loss_and_param();"
      ],
      "metadata": {
        "id": "-xPYl_iqth0J",
        "colab": {
          "base_uri": "https://localhost:8080/",
          "height": 467
        },
        "outputId": "1403baa7-42ce-4f88-c719-ba045f774c9a"
      },
      "execution_count": 64,
      "outputs": [
        {
          "output_type": "display_data",
          "data": {
            "text/plain": [
              "<Figure size 700x500 with 2 Axes>"
            ],
            "image/png": "[encoded data removed]"
          },
          "metadata": {}
        }
      ]
    }
  ]
}