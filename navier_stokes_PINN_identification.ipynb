{
  "nbformat": 4,
  "nbformat_minor": 0,
  "metadata": {
    "colab": {
      "provenance": [],
      "authorship_tag": "ABX9TyPKwWlndf2NuteJM+4PXCC1",
      "include_colab_link": true
    },
    "kernelspec": {
      "name": "python3",
      "display_name": "Python 3"
    },
    "language_info": {
      "name": "python"
    }
  },
  "cells": [
    {
      "cell_type": "markdown",
      "metadata": {
        "id": "view-in-github",
        "colab_type": "text"
      },
      "source": [
        "<a href=\"https://colab.research.google.com/github/yajuna/tensorflow_pde/blob/master/navier_stokes_PINN_identification.ipynb\" target=\"_parent\"><img src=\"https://colab.research.google.com/assets/colab-badge.svg\" alt=\"Open In Colab\"/></a>"
      ]
    },
    {
      "cell_type": "markdown",
      "source": [
        "# This work is based on the methodology originally developed by [Raissi](https://github.com/maziarraissi/PINNs/blob/master/main/continuous_time_identification%20(Navier-Stokes)/NavierStokes.py), and the Tensorflow 2.0 modification by [Blechschmidt](https://github.com/janblechschmidt/PDEsByNNs).\n",
        "\n",
        "A Tensorflow 2.0 implementation of the inference problem for the Navier Stokes equation is [here](https://github.com/yajuna/tensorflow_pde/blob/master/navier_stokes_PINN_Solver.ipynb). This notebook is a Tensorflow 2.0 implementation of the Navier Stokes identification problem. We run this notebook with the original data provided by the author to test our implementation for the inference problem. This code is modified from [the heat identification code](https://github.com/yajuna/tensorflow_pde/blob/master/Heat_equation_with_tensorflow.ipynb)"
      ],
      "metadata": {
        "id": "VXtYqqellzJF"
      }
    },
    {
      "cell_type": "code",
      "source": [
        "import tensorflow as tf\n",
        "import numpy as np\n",
        "import matplotlib.pyplot as plt\n",
        "import pandas\n",
        "\n",
        "from time import time\n",
        "\n",
        "from IPython.display import clear_output\n",
        "\n",
        "clear_output()"
      ],
      "metadata": {
        "id": "fuZGtDwTqSfJ"
      },
      "execution_count": 1,
      "outputs": []
    },
    {
      "cell_type": "code",
      "execution_count": 2,
      "metadata": {
        "id": "6OyoZ-OdlwzB"
      },
      "outputs": [],
      "source": [
        "# Set data type\n",
        "DTYPE='float32'\n",
        "tf.keras.backend.set_floatx(DTYPE)\n",
        "\n",
        "pi = tf.constant(np.pi, dtype=DTYPE)\n",
        "\n",
        "# Define initial condition\n",
        "def fun_0(x, y):\n",
        "    psi = -tf.sin(2 * x)\n",
        "    p = tf.sin(3. * y)\n",
        "    # return [psi, p]\n",
        "    return tf.concat([psi, p], axis=1)\n",
        "\n",
        "# Define boundary condition-- for y = -8 <--------------------------- ask\n",
        "def fun_lx(t, x):\n",
        "    psi = -tf.sin(2 * x)\n",
        "    p = tf.sin(3. * t)\n",
        "    return tf.concat([psi, p], axis=1)\n",
        "\n",
        "# Define boundary condition-- for x = -15 <--------------------------- ask\n",
        "def fun_ly(t, y):\n",
        "    psi = -tf.sin(2 * t)\n",
        "    p = tf.sin(3. * y)\n",
        "    return tf.concat([psi, p], axis=1)\n",
        "# Define boundary condition-- for y = 8 <--------------------------- ask\n",
        "def fun_ux(t, x):\n",
        "    psi = -tf.sin(2 * x)\n",
        "    p = tf.sin(3. * t)\n",
        "    return tf.concat([psi, p], axis=1)\n",
        "\n",
        "# Define boundary condition-- for x = 25 <--------------------------- ask\n",
        "def fun_uy(t, y):\n",
        "    psi = -tf.sin(2 * t)\n",
        "    p = tf.sin(3. * y)\n",
        "    return tf.concat([psi, p], axis=1)\n",
        "\n",
        "# Residual of the PDE is defined in fun_r\n",
        "# all variables: t,x,u, u_t, u_x, u_y, u_xx, u_yy, v, v_t, v_x, v_y, v_xx, v_yy, p, p_x, p_y\n",
        "def fun_r(u, u_t, u_x, u_y, u_xx, u_yy, v, v_t, v_x, v_y, v_xx, v_yy, p_x, p_y):\n",
        "  f = u_t + lambda_1 * (u * u_x + v * u_y) + p_x - lambda_2 * (u_xx + u_yy)\n",
        "  g = v_t + lambda_1 * (u * v_x + v * v_y) + p_y - lambda_2 * (v_xx + v_yy)\n",
        "  return tf.concat([f, g], axis=1)"
      ]
    },
    {
      "cell_type": "code",
      "source": [
        "# Set number of data points\n",
        "N_0 = 200\n",
        "N_b = 200\n",
        "N_r = 10000\n",
        "\n",
        "# Set boundary\n",
        "tmin = 0.\n",
        "tmax = 1.\n",
        "xmin = -15.\n",
        "xmax = 25.\n",
        "ymin = -8.\n",
        "ymax = 8.\n",
        "\n",
        "# Lower bounds\n",
        "lb = tf.constant([tmin, xmin, ymin], dtype=DTYPE)\n",
        "# Upper bounds\n",
        "ub = tf.constant([tmax, xmax, ymax], dtype=DTYPE)\n",
        "\n",
        "# Set random seed for reproducible results\n",
        "tf.random.set_seed(0)\n",
        "\n",
        "# Draw uniform sample points for initial boundary data\n",
        "t_0 = tf.ones((N_0,1), dtype=DTYPE)*lb[0]\n",
        "x_0 = tf.random.uniform((N_0,1), lb[1], ub[1], dtype=DTYPE)\n",
        "y_0 = tf.random.uniform((N_0,1), lb[2], ub[2], dtype=DTYPE)\n",
        "X_0 = tf.concat([t_0, x_0, y_0], axis=1)\n",
        "\n",
        "# Boundary data points\n",
        "t_b = tf.random.uniform((N_b,1), lb[0], ub[0], dtype=DTYPE)\n",
        "x_lb = tf.ones((N_b,1), dtype=DTYPE)*lb[1]\n",
        "x_ub = tf.ones((N_b,1), dtype=DTYPE)*ub[1]\n",
        "y_lb = tf.ones((N_b,1), dtype=DTYPE)*lb[2]\n",
        "y_ub = tf.ones((N_b,1), dtype=DTYPE)*ub[2]\n",
        "\n",
        "X_lb = tf.concat([t_b, x_lb, y_0], axis=1)\n",
        "X_ub = tf.concat([t_b, x_ub, y_0], axis=1)\n",
        "Y_lb = tf.concat([t_b, x_0, y_lb], axis=1)\n",
        "Y_ub = tf.concat([t_b, x_0, y_ub], axis=1)\n",
        "\n",
        "# Evaluate initial condition at x_0\n",
        "pp_0 = fun_0(x_0, y_0)\n",
        "\n",
        "# Evaluate boundary condition at (t_b, x_b, y_b) <---------- to fix\n",
        "pp_lx = fun_lx(t_b, x_lb)\n",
        "pp_ly = fun_ly(t_b, y_lb)\n",
        "pp_ux = fun_lx(t_b, x_ub)\n",
        "pp_uy = fun_ly(t_b, y_ub)\n",
        "\n",
        "# Draw uniformly sampled collocation points\n",
        "t_r = tf.random.uniform((N_r,1), lb[0], ub[0], dtype=DTYPE)\n",
        "x_r = tf.random.uniform((N_r,1), lb[1], ub[1], dtype=DTYPE)\n",
        "y_r = tf.random.uniform((N_r,1), lb[2], ub[2], dtype=DTYPE)\n",
        "X_r = tf.concat([t_r, x_r, y_r], axis=1)\n",
        "\n",
        "# Collect boundary and inital data in lists\n",
        "X_data = [X_0, X_lb, X_ub, Y_lb, Y_ub]\n",
        "pp_data = [pp_0, pp_lx, pp_ux, pp_ly, pp_uy]"
      ],
      "metadata": {
        "id": "WRN9dK4LsteS"
      },
      "execution_count": 3,
      "outputs": []
    },
    {
      "cell_type": "code",
      "source": [
        "# Define model architecture\n",
        "\n",
        "class PINN_NeuralNet(tf.keras.Model):\n",
        "  \"\"\"Basic architecture of the PINN model\n",
        "  \"\"\"\n",
        "\n",
        "  def __init__(self, lb, ub,\n",
        "               output_dim = 1,\n",
        "               num_hidden_layers = 8,\n",
        "               num_neurons_per_layer = 20,\n",
        "               activation = 'tanh',\n",
        "               kernel_initializer = 'glorot_normal',\n",
        "               **kwargs):\n",
        "    super().__init__(**kwargs)\n",
        "\n",
        "    self.num_hidden_layers = num_hidden_layers\n",
        "    self.output_dim = output_dim\n",
        "    self.lb = lb\n",
        "    self.ub = ub\n",
        "\n",
        "    # Define NN architecture\n",
        "    self.scale = tf.keras.layers.Lambda(\n",
        "            lambda x: 2.0*(x - lb)/(ub - lb) - 1.0)\n",
        "    self.hidden = [tf.keras.layers.Dense(num_neurons_per_layer,\n",
        "                             activation=tf.keras.activations.get(activation),\n",
        "                             kernel_initializer=kernel_initializer)\n",
        "                           for _ in range(self.num_hidden_layers)]\n",
        "    self.out = tf.keras.layers.Dense(output_dim)\n",
        "\n",
        "  def call(self, X):\n",
        "    \"\"\"\n",
        "    Forward-pass thru NN\n",
        "    \"\"\"\n",
        "    Z = self.scale(X)\n",
        "    for i in range(self.num_hidden_layers):\n",
        "      Z = self.hidden[i](Z)\n",
        "    return self.out(Z)"
      ],
      "metadata": {
        "id": "zYzfUI9wtBRW"
      },
      "execution_count": 4,
      "outputs": []
    },
    {
      "cell_type": "code",
      "source": [
        "class PINNIdentificationNet(PINN_NeuralNet):\n",
        "    def __init__(self, *args, **kwargs):\n",
        "\n",
        "        # Call init of base class\n",
        "        super().__init__(*args,**kwargs)\n",
        "\n",
        "        # Initialize variable for lambda\n",
        "        # initial guess: lambd1 = 0.16 / (720 * 1300), lambd2 = 1.0 / (720 * 1300)\n",
        "        # use value after 6400 steps of training\n",
        "        # It 06400: loss = 7.85567093e+00 lambda1 = 6.51998147e-02 lambda2 = -1.95997432e-36\n",
        "        self.lambd1 = tf.Variable(1.0, trainable=True, dtype=DTYPE)\n",
        "        self.lambd1_list = []\n",
        "\n",
        "        self.lambd2 = tf.Variable(1.0, trainable=True, dtype=DTYPE)\n",
        "        self.lambd2_list = []"
      ],
      "metadata": {
        "id": "MHfKtKPptIAf"
      },
      "execution_count": 5,
      "outputs": []
    },
    {
      "cell_type": "markdown",
      "source": [
        "## Major modification in PINNSolver- Change dimensions of input and output variables\n",
        "\n",
        "### to do\n",
        "- see how boundary conditions are defined;\n",
        "\n",
        "- see where to use the data file\n",
        "\n",
        "- run on HYAK"
      ],
      "metadata": {
        "id": "sctjRp720ikd"
      }
    },
    {
      "cell_type": "code",
      "source": [
        "class PINNSolver():\n",
        "    def __init__(self, model, X_r):\n",
        "        self.model = model\n",
        "\n",
        "        # Store collocation points, separate t and x\n",
        "        self.t = X_r[:,0:1]\n",
        "        self.x = X_r[:,1:2]\n",
        "        self.y = X_r[:,2:3]\n",
        "\n",
        "        # Initialize history of losses and global iteration counter\n",
        "        self.hist = []\n",
        "        self.iter = 0\n",
        "\n",
        "    def get_r(self):\n",
        "\n",
        "        with tf.GradientTape(persistent=True) as tape:\n",
        "            # Watch variables representing t and x during this GradientTape\n",
        "            tape.watch(self.t)\n",
        "            tape.watch(self.x)\n",
        "            tape.watch(self.y)\n",
        "\n",
        "            # Determine residual\n",
        "            pp = self.model(tf.stack([self.t[:,0], self.x[:,0], self.y[:,0]], axis=1))\n",
        "            psi = pp[:, 0:1]\n",
        "            p = pp[:,1:2]\n",
        "\n",
        "            # Compute gradients\n",
        "            u = tape.gradient(psi, self.y)\n",
        "            v = -tape.gradient(psi, self.x)\n",
        "\n",
        "            u_x = tape.gradient(u, self.x)\n",
        "            u_y = tape.gradient(u, self.y)\n",
        "\n",
        "            v_x = tape.gradient(v, self.x)\n",
        "            v_y = tape.gradient(v, self.y)\n",
        "\n",
        "\n",
        "\n",
        "        p_x = tape.gradient(p, self.x)\n",
        "        p_y = tape.gradient(p, self.y)\n",
        "\n",
        "        u_t = tape.gradient(u, self.t)\n",
        "        u_xx = tape.gradient(u_x, self.x)\n",
        "        u_yy = tape.gradient(u_y, self.y)\n",
        "\n",
        "        v_t = tape.gradient(v, self.t)\n",
        "        v_xx = tape.gradient(v_x, self.x)\n",
        "        v_yy = tape.gradient(v_y, self.y)\n",
        "\n",
        "        del tape\n",
        "\n",
        "        return self.fun_r(u, u_t, u_x, u_y, u_xx, u_yy, v, v_t, v_x, v_y, v_xx, v_yy, p_x, p_y) ########\n",
        "\n",
        "\n",
        "    def loss_fn(self, X_r, X_data, pp_data):\n",
        "\n",
        "        # Compute phi_r\n",
        "        r = self.get_r()\n",
        "        phi_r = tf.reduce_mean(tf.square(r))\n",
        "\n",
        "        # Initialize loss\n",
        "        loss = phi_r\n",
        "\n",
        "        # Add phi_0 and phi_b to the loss\n",
        "        for i in range(len(X_data)):\n",
        "            pp_pred = self.model(X_data[i])\n",
        "            loss += tf.reduce_mean(tf.square(pp_data[i] - pp_pred))\n",
        "\n",
        "        return loss\n",
        "\n",
        "\n",
        "\n",
        "    def get_grad(self, X_r, X_data, pp_data):\n",
        "        with tf.GradientTape(persistent=True) as tape:\n",
        "            # This tape is for derivatives with\n",
        "            # respect to trainable variables\n",
        "            tape.watch(self.model.trainable_variables)\n",
        "            loss = self.loss_fn(X_r, X_data, pp_data)\n",
        "\n",
        "        g = tape.gradient(loss, self.model.trainable_variables)\n",
        "        del tape\n",
        "\n",
        "        return loss, g\n",
        "\n",
        "\n",
        "    def fun_r(self, u, u_t, u_x, u_y, u_xx, u_yy, v, v_t, v_x, v_y, v_xx, v_yy, p_x, p_y):\n",
        "        \"\"\"Residual of the PDE\"\"\"\n",
        "        f = u_t + self.model.lambd1 * (u * u_x + v * u_y) + p_x - self.model.lambd2 * (u_xx + u_yy)\n",
        "        g = v_t + self.model.lambd1 * (u * v_x + v * v_y) + p_y - self.model.lambd2 * (v_xx + v_yy)\n",
        "        return tf.concat([f, g], axis=1)\n",
        "\n",
        "    def solve_with_TFoptimizer(self, optimizer, X, pp, N=1001):\n",
        "        \"\"\"This method performs a gradient descent type optimization.\"\"\"\n",
        "\n",
        "        @tf.function\n",
        "        def train_step():\n",
        "            loss, grad_theta = self.get_grad(X_r, X, pp)\n",
        "\n",
        "            # Perform gradient descent step\n",
        "            optimizer.apply_gradients(zip(grad_theta, self.model.trainable_variables))\n",
        "            return loss\n",
        "\n",
        "        for i in range(N):\n",
        "\n",
        "            loss = train_step()\n",
        "\n",
        "            self.current_loss = loss.numpy()\n",
        "            self.callback()\n",
        "\n",
        "    def callback(self, xr=None):\n",
        "        lambd1 = self.model.lambd1.numpy()\n",
        "        self.model.lambd1_list.append(lambd1)\n",
        "\n",
        "        lambd2 = self.model.lambd2.numpy()\n",
        "        self.model.lambd2_list.append(lambd2)\n",
        "\n",
        "        if self.iter % 100 == 0:\n",
        "            print('It {:05d}: loss = {:10.8e} lambda1 = {:10.8e} lambda2 = {:10.8e}'.format(self.iter, self.current_loss, lambd1, lambd2))\n",
        "\n",
        "        self.hist.append(self.current_loss)\n",
        "        self.iter += 1\n",
        "\n",
        "\n",
        "    # def plot_solution(self, **kwargs):\n",
        "    #     N = 411\n",
        "    #     tspace = np.linspace(self.model.lb[0], self.model.ub[0], N)\n",
        "    #     xspace = np.linspace(self.model.lb[1], self.model.ub[1], N)\n",
        "    #     yspace = np.linspace(self.model.lb[2], self.model.ub[2], N)\n",
        "    #     T, X, Y = np.meshgrid(tspace, xspace, yspace)\n",
        "    #     Xgrid = np.vstack([T.flatten(),X.flatten(),Y.flatten()]).T\n",
        "    #     upred = self.model(tf.cast(Xgrid,DTYPE))\n",
        "    #     U = upred.numpy().reshape(N,N)\n",
        "    #     fig = plt.figure(figsize=(9,6))\n",
        "    #     ax = fig.add_subplot(111, projection='3d')\n",
        "    #     ax.plot_surface(T, X, Y, U, cmap='viridis', **kwargs)\n",
        "    #     ax.set_xlabel('$t$')\n",
        "    #     ax.set_ylabel('$x$')\n",
        "    #     ax.set_zlabel('$u_\\\\theta(t,x)$')\n",
        "    #     ax.view_init(35,35)\n",
        "    #     return ax\n",
        "\n",
        "    def plot_loss_history(self, ax=None):\n",
        "        if not ax:\n",
        "            fig = plt.figure(figsize=(7,5))\n",
        "            ax = fig.add_subplot(111)\n",
        "        ax.semilogy(range(len(self.hist)), self.hist,'k-')\n",
        "        ax.set_xlabel('$n_{epoch}$')\n",
        "        ax.set_ylabel('$\\\\phi^{n_{epoch}}$')\n",
        "        return ax\n",
        "\n",
        "    def plot_loss_and_param(self, axs=None):\n",
        "        if axs:\n",
        "            ax1, ax2 = axs\n",
        "            self.plot_loss_history(ax1)\n",
        "        else:\n",
        "            ax1 = self.plot_loss_history()\n",
        "            ax2 = ax1.twinx()  # instantiate a second axes that shares the same x-axis\n",
        "\n",
        "        # color = 'tab:blue'\n",
        "        ax2.tick_params(axis='y', labelcolor='tab:blue')\n",
        "        ax2.plot(range(len(self.hist)), self.model.lambd1_list,'-',color='tab:blue')\n",
        "        ax2.plot(range(len(self.hist)), self.model.lambd2_list,'-',color='tab:red')\n",
        "        ax2.set_ylabel('$\\\\lambda^{n_{epoch}}$', color='tab:blue')\n",
        "        return (ax1,ax2)"
      ],
      "metadata": {
        "id": "UBZF3jyotPAs"
      },
      "execution_count": 6,
      "outputs": []
    },
    {
      "cell_type": "code",
      "source": [
        "# initialize model\n",
        "model = PINNIdentificationNet(lb, ub, num_hidden_layers=2)\n",
        "model.build(input_shape=(None,3))\n",
        "\n",
        "# initialize PINN solver\n",
        "solver = PINNSolver(model, X_r)"
      ],
      "metadata": {
        "id": "BIqJTdChtQJc"
      },
      "execution_count": 7,
      "outputs": []
    },
    {
      "cell_type": "code",
      "source": [
        "lr = tf.keras.optimizers.schedules.PiecewiseConstantDecay([1000,3000],[1e-2,1e-3,5e-4])\n",
        "optim = tf.keras.optimizers.Adam(learning_rate=lr)\n",
        "\n",
        "# start timer\n",
        "t0 = time()\n",
        "\n",
        "solver.solve_with_TFoptimizer(optim, X_data, pp_data, N=6001)\n",
        "\n",
        "# Print computation time\n",
        "print('\\nComputation time: {} seconds'.format(time()-t0))"
      ],
      "metadata": {
        "colab": {
          "base_uri": "https://localhost:8080/"
        },
        "id": "ppvRGri9tW4T",
        "outputId": "881897b0-e056-47a4-e1a7-2b90e2cc8904"
      },
      "execution_count": 12,
      "outputs": [
        {
          "output_type": "stream",
          "name": "stdout",
          "text": [
            "It 06100: loss = 1.97757101e+00 lambda1 = 3.58670242e-02 lambda2 = 1.92869343e-02\n",
            "It 06200: loss = 1.97645152e+00 lambda1 = 6.64312020e-02 lambda2 = 1.66938156e-02\n",
            "It 06300: loss = 1.97584069e+00 lambda1 = 6.23601601e-02 lambda2 = 1.86747611e-02\n",
            "It 06400: loss = 1.97518408e+00 lambda1 = 5.79190701e-02 lambda2 = 2.21205447e-02\n",
            "It 06500: loss = 1.97445965e+00 lambda1 = 5.32725416e-02 lambda2 = 2.58298442e-02\n",
            "It 06600: loss = 1.97367895e+00 lambda1 = 4.96826284e-02 lambda2 = 2.88453493e-02\n",
            "It 06700: loss = 1.97285128e+00 lambda1 = 4.81650308e-02 lambda2 = 3.07787042e-02\n",
            "It 06800: loss = 1.97197640e+00 lambda1 = 4.85227779e-02 lambda2 = 3.16888839e-02\n",
            "It 06900: loss = 1.97104633e+00 lambda1 = 4.97267805e-02 lambda2 = 3.18039805e-02\n",
            "It 07000: loss = 1.97004819e+00 lambda1 = 5.05036227e-02 lambda2 = 3.13373841e-02\n",
            "It 07100: loss = 1.96992183e+00 lambda1 = 5.05153537e-02 lambda2 = 3.12557891e-02\n",
            "It 07200: loss = 1.96980572e+00 lambda1 = 5.05098477e-02 lambda2 = 3.11706215e-02\n",
            "It 07300: loss = 1.96968067e+00 lambda1 = 5.04747108e-02 lambda2 = 3.10755279e-02\n",
            "It 07400: loss = 1.96954679e+00 lambda1 = 5.04038334e-02 lambda2 = 3.09700668e-02\n",
            "It 07500: loss = 1.96940362e+00 lambda1 = 5.02912290e-02 lambda2 = 3.08536179e-02\n",
            "It 07600: loss = 1.96925104e+00 lambda1 = 5.01286648e-02 lambda2 = 3.07260212e-02\n",
            "It 07700: loss = 1.96908796e+00 lambda1 = 4.99079898e-02 lambda2 = 3.05871200e-02\n",
            "It 07800: loss = 1.96891427e+00 lambda1 = 4.96178903e-02 lambda2 = 3.04365773e-02\n",
            "It 07900: loss = 1.96872950e+00 lambda1 = 4.92471382e-02 lambda2 = 3.02752927e-02\n",
            "It 08000: loss = 1.96853328e+00 lambda1 = 4.87836041e-02 lambda2 = 3.01032569e-02\n",
            "It 08100: loss = 1.96832442e+00 lambda1 = 4.82161753e-02 lambda2 = 2.99216546e-02\n",
            "It 08200: loss = 1.96810257e+00 lambda1 = 4.75314371e-02 lambda2 = 2.97314320e-02\n",
            "It 08300: loss = 1.96786690e+00 lambda1 = 4.67160083e-02 lambda2 = 2.95340400e-02\n",
            "It 08400: loss = 1.96761644e+00 lambda1 = 4.57568392e-02 lambda2 = 2.93312687e-02\n",
            "It 08500: loss = 1.96735001e+00 lambda1 = 4.46424596e-02 lambda2 = 2.91250311e-02\n",
            "It 08600: loss = 1.96706676e+00 lambda1 = 4.33613434e-02 lambda2 = 2.89180111e-02\n",
            "It 08700: loss = 1.96676493e+00 lambda1 = 4.19023596e-02 lambda2 = 2.87117977e-02\n",
            "It 08800: loss = 1.96644354e+00 lambda1 = 4.02565338e-02 lambda2 = 2.85097174e-02\n",
            "It 08900: loss = 1.96610057e+00 lambda1 = 3.84168774e-02 lambda2 = 2.83138640e-02\n",
            "It 09000: loss = 1.96573448e+00 lambda1 = 3.63798477e-02 lambda2 = 2.81275623e-02\n",
            "It 09100: loss = 1.96553576e+00 lambda1 = 3.52684557e-02 lambda2 = 2.80372165e-02\n",
            "It 09200: loss = 1.96532893e+00 lambda1 = 3.40857916e-02 lambda2 = 2.79489402e-02\n",
            "It 09300: loss = 1.96510983e+00 lambda1 = 3.28225084e-02 lambda2 = 2.78631113e-02\n",
            "It 09400: loss = 1.96487737e+00 lambda1 = 3.14770788e-02 lambda2 = 2.77799442e-02\n",
            "It 09500: loss = 1.96463096e+00 lambda1 = 3.00527681e-02 lambda2 = 2.77011450e-02\n",
            "It 09600: loss = 1.96437001e+00 lambda1 = 2.85522211e-02 lambda2 = 2.76268888e-02\n",
            "It 09700: loss = 1.96409333e+00 lambda1 = 2.69867834e-02 lambda2 = 2.75579374e-02\n",
            "It 09800: loss = 1.96380079e+00 lambda1 = 2.53657363e-02 lambda2 = 2.74959803e-02\n",
            "It 09900: loss = 1.96349144e+00 lambda1 = 2.37036217e-02 lambda2 = 2.74411198e-02\n",
            "It 10000: loss = 1.96316481e+00 lambda1 = 2.20192373e-02 lambda2 = 2.73941550e-02\n",
            "It 10100: loss = 1.96282005e+00 lambda1 = 2.03343071e-02 lambda2 = 2.73551270e-02\n",
            "It 10200: loss = 1.96245694e+00 lambda1 = 1.86711643e-02 lambda2 = 2.73248143e-02\n",
            "It 10300: loss = 1.96207500e+00 lambda1 = 1.70528498e-02 lambda2 = 2.73024235e-02\n",
            "It 10400: loss = 1.96167350e+00 lambda1 = 1.55080929e-02 lambda2 = 2.72875316e-02\n",
            "It 10500: loss = 1.96125221e+00 lambda1 = 1.40563594e-02 lambda2 = 2.72794943e-02\n",
            "It 10600: loss = 1.96081066e+00 lambda1 = 1.27197327e-02 lambda2 = 2.72770096e-02\n",
            "It 10700: loss = 1.96034861e+00 lambda1 = 1.15158577e-02 lambda2 = 2.72782836e-02\n",
            "It 10800: loss = 1.95986497e+00 lambda1 = 1.04561318e-02 lambda2 = 2.72811390e-02\n",
            "It 10900: loss = 1.95936024e+00 lambda1 = 9.55377612e-03 lambda2 = 2.72831209e-02\n",
            "It 11000: loss = 1.95883262e+00 lambda1 = 8.81471764e-03 lambda2 = 2.72798054e-02\n",
            "It 11100: loss = 1.95828307e+00 lambda1 = 8.24718270e-03 lambda2 = 2.72667985e-02\n",
            "It 11200: loss = 1.95771015e+00 lambda1 = 7.85757601e-03 lambda2 = 2.72382908e-02\n",
            "It 11300: loss = 1.95711327e+00 lambda1 = 7.65777612e-03 lambda2 = 2.71873549e-02\n",
            "It 11400: loss = 1.95649230e+00 lambda1 = 7.66573893e-03 lambda2 = 2.71064378e-02\n",
            "It 11500: loss = 1.95584655e+00 lambda1 = 7.90854357e-03 lambda2 = 2.69870050e-02\n",
            "It 11600: loss = 1.95517659e+00 lambda1 = 8.42473749e-03 lambda2 = 2.68211290e-02\n",
            "It 11700: loss = 1.95448291e+00 lambda1 = 9.26566590e-03 lambda2 = 2.66013127e-02\n",
            "It 11800: loss = 1.95376766e+00 lambda1 = 1.04880361e-02 lambda2 = 2.63214745e-02\n",
            "It 11900: loss = 1.95303416e+00 lambda1 = 1.21492865e-02 lambda2 = 2.59787999e-02\n",
            "It 12000: loss = 1.95228601e+00 lambda1 = 1.42926574e-02 lambda2 = 2.55730860e-02\n",
            "\n",
            "Computation time: 850.9066569805145 seconds\n"
          ]
        }
      ]
    },
    {
      "cell_type": "code",
      "source": [
        "# solver.plot_solution();"
      ],
      "metadata": {
        "id": "2dRrbkuttZxB"
      },
      "execution_count": null,
      "outputs": []
    },
    {
      "cell_type": "code",
      "source": [
        "solver.plot_loss_history();"
      ],
      "metadata": {
        "colab": {
          "base_uri": "https://localhost:8080/",
          "height": 467
        },
        "id": "1RCO0H91tiNH",
        "outputId": "d0643efc-4338-4d52-ebd6-46880ed9a180"
      },
      "execution_count": 13,
      "outputs": [
        {
          "output_type": "display_data",
          "data": {
            "text/plain": [
              "<Figure size 700x500 with 1 Axes>"
            ],
            "image/png": "[encoded data removed]"
          },
          "metadata": {}
        }
      ]
    },
    {
      "cell_type": "code",
      "source": [
        "solver.plot_loss_and_param();"
      ],
      "metadata": {
        "colab": {
          "base_uri": "https://localhost:8080/",
          "height": 467
        },
        "id": "-xPYl_iqth0J",
        "outputId": "147e68e4-8dcc-45ff-8b48-4aed55ae91a0"
      },
      "execution_count": 14,
      "outputs": [
        {
          "output_type": "display_data",
          "data": {
            "text/plain": [
              "<Figure size 700x500 with 2 Axes>"
            ],
            "image/png": "[encoded data removed]"
          },
          "metadata": {}
        }
      ]
    }
  ]
}