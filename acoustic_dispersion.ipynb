{
  "nbformat": 4,
  "nbformat_minor": 0,
  "metadata": {
    "colab": {
      "provenance": [],
      "authorship_tag": "ABX9TyMNgtsI/wxXVAqTNC9VBq83",
      "include_colab_link": true
    },
    "kernelspec": {
      "name": "python3",
      "display_name": "Python 3"
    },
    "language_info": {
      "name": "python"
    }
  },
  "cells": [
    {
      "cell_type": "markdown",
      "metadata": {
        "id": "view-in-github",
        "colab_type": "text"
      },
      "source": [
        "<a href=\"https://colab.research.google.com/github/yajuna/tensorflow_pde/blob/master/acoustic_dispersion.ipynb\" target=\"_parent\"><img src=\"https://colab.research.google.com/assets/colab-badge.svg\" alt=\"Open In Colab\"/></a>"
      ]
    },
    {
      "cell_type": "markdown",
      "source": [
        "# In this notebook, we implement the PINN methodology by Raissi to solve the acoustic wave equation with finite difference methods and aim to identify the best Finite Difference schemes for computing wave speed.\n",
        "\n",
        "The main reference are Raissi's original paper, Jan Schmidt's notebooks, and _A convolutional dispersion relation preserving scheme for the acoustic wave equation_ by  Oded Ovadia et al.\n",
        "\n",
        "The acoustic wave differential equation assumes the form\n",
        "\n",
        "$u_{tt}=c^2u_{xx}$\n",
        "\n",
        "We discretize the above equation with the Finite Difference (FD) method.\n",
        "\n",
        "\\begin{equation} U^{n + 1}_j + U^{n - 1}_j  + \\sum^M_{m = 0} c_m  (U^n_{j + m}+ U^n_{j - m}) = 0\\end{equation}\n",
        "\n",
        "An example with $M=1$ is the familiar Leap-Frog scheme\n",
        "\n",
        "\\begin{equation} U^{n + 1}_j - 2 U^n_j + U^{n - 1}_j - \\gamma^2  \\left(U^n_{j + 1} - 2 U^n_j +U^n_{j - 1}\\right) \\approx 0,\\end{equation}\n",
        "\n",
        "where $\\displaystyle\\gamma = c \\frac{\\Delta t}{\\Delta x}$ denotes the CFL number, $U^{n + l}_{j + m}$ denotes the grid function approximating $u (x +m\\Delta x, t + l \\Delta t)$ and $U^n_j$ the center point at the present time $u(x,t)$. This discretization enforces 2nd order accuracy at $(x,t)$. Let $k$ denote the physical wave number and $\\omega$ the physical frequency and $\\Omega=\\omega\\Delta t$ and $K=k\\Delta x$ denote the normalized numerical frequency and normalized numerical wavenumber. Here $K\\in[0,\\pi]$, with $K_{max}=\\pi$ being the Nyquist wavenumber.\n",
        "Applying the discrete Fourier transform ($x\\to K$, $t\\to\\Omega$) to the general scheme gives the dispersion relation\n",
        "\n",
        "\\begin{equation}\\cos (\\Omega) + \\sum^M_{m = 0} c_m \\cos (m K) = 0,\\end{equation}\n",
        "\n",
        "and we aim to find the coefficients $\\{c_m\\}^M_{m=0}$ with a physics informed neural network.\n",
        "\n",
        "Previous work has been done to find such schemes with optimization methods, and in this work, we frame the problem to be an identification problem with the physics-informed neural network methodology.\n",
        "\n",
        "The physics information will be accuracy of the solution with the FD scheme for the initial and boundary conditions, preset interpolation conditions, as well as dispersion in the uniform norm."
      ],
      "metadata": {
        "id": "ZOnWsmFiCai9"
      }
    },
    {
      "cell_type": "code",
      "execution_count": 5,
      "metadata": {
        "id": "CKcRrOz3CA-t"
      },
      "outputs": [],
      "source": [
        "import tensorflow as tf\n",
        "import numpy as np\n",
        "import matplotlib.pyplot as plt\n",
        "import pandas\n",
        "\n",
        "from time import time\n",
        "\n",
        "from IPython.display import clear_output\n",
        "\n",
        "clear_output()"
      ]
    },
    {
      "cell_type": "markdown",
      "source": [
        "## Set hyperparameters"
      ],
      "metadata": {
        "id": "bvjAPAqlgWir"
      }
    },
    {
      "cell_type": "code",
      "source": [
        "# set data type and hyperparameters\n",
        "# import data\n",
        "\n",
        "DTYPE = 'float32'\n",
        "tf.keras.backend.set_floatx(DTYPE)\n",
        "\n",
        "pi = tf.constant(np.pi, dtype = DTYPE)\n",
        "\n",
        "# Set number of data points\n",
        "N_0 = 400 # number of points in space; same as N_0 for simplicity\n",
        "N_b = 400 # number of points in time; this is the amount of measurements in 24 hours\n",
        "N_r = 100\n",
        "\n",
        "# Set boundary\n",
        "tmin = 0.\n",
        "tmax = 24.\n",
        "xmin = 0.\n",
        "xmax = 3.\n",
        "\n",
        "dt = (tmax - tmin)/N_b\n",
        "\n",
        "# wave speed\n",
        "c = 1\n",
        "gamma = 0.7\n",
        "\n",
        "# Lower bounds in time and space\n",
        "lb = tf.constant([tmin, xmin], dtype=DTYPE)\n",
        "# Upper bounds in time and space\n",
        "ub = tf.constant([tmax, xmax], dtype=DTYPE)\n",
        "\n",
        "# Set random seed for reproducible results\n",
        "tf.random.set_seed(0)\n",
        "\n",
        "# Draw uniform sample points for initial boundary data; need N_0 == N_b for concat\n",
        "t_0 = tf.ones((N_0,1), dtype=DTYPE)*lb[0]\n",
        "x_init = tf.linspace(lb[1], ub[1], N_0)\n",
        "x_0 = tf.reshape(x_init, (N_0,1))\n",
        "X_0 = tf.concat([t_0, x_0], axis=1)\n",
        "\n",
        "# Boundary data- left and right boundary compared for periodic bdry condition\n",
        "t_boundary = tf.linspace(lb[0], ub[0], N_b)\n",
        "t_b = tf.reshape(t_boundary, (N_b,1))\n",
        "x_lb = tf.ones((N_b,1), dtype=DTYPE)*lb[1]\n",
        "x_ub = tf.ones((N_b,1), dtype=DTYPE)*ub[1]\n",
        "X_lb = tf.concat([t_b, x_lb], axis=1)\n",
        "X_ub = tf.concat([t_b, x_ub], axis=1)\n",
        "\n",
        "\n",
        "# # Draw uniformly sampled collocation points\n",
        "# t_r = tf.random.uniform((N_r,1), lb[0], ub[0], dtype=DTYPE)\n",
        "# x_r = tf.random.uniform((N_r,1), lb[1], ub[1], dtype=DTYPE)\n",
        "# X_r = tf.concat([t_r, x_r], axis=1)\n",
        "\n",
        "# Draw grid points for the discrete parameter identification problem\n",
        "t_r1 = tf.linspace(lb[0], ub[0], N_r)\n",
        "x_r1 = tf.linspace(lb[1], ub[1], N_r)\n",
        "\n",
        "t_r, x_r = tf.meshgrid(t_r1, x_r1)\n",
        "X_r = tf.concat([t_r, x_r], axis=1)"
      ],
      "metadata": {
        "id": "j3nbYyddgaQx"
      },
      "execution_count": 37,
      "outputs": []
    },
    {
      "cell_type": "markdown",
      "source": [
        "### Define the true solution to the wave equation\n",
        "We use the function $u_{true}(x,t)=\\phi(x,t)=\\sin(2\\pi\\xi(x-ct))e^{-\\beta(x-ct-0.5)^2}$ as the analytical solution to the wave equation.\n",
        "\n",
        "We would like to see 8 points per wavelength, so $\\xi\\Delta x = \\frac{2\\pi}{8}$.\n",
        "\n",
        "Here we take $\\beta = 16$, $2\\pi\\xi = 125.7$, and $c=1$."
      ],
      "metadata": {
        "id": "TVKdzFW1Mu9B"
      }
    },
    {
      "cell_type": "code",
      "source": [
        "c = 1\n",
        "beta = 16\n",
        "pi2xi = 125.7\n",
        "def utrue(x,t):\n",
        "  xat = (x - c * t) % 3\n",
        "  return np.sin(pi2xi * xat) * np.exp(-beta * (xat - 0.5)**2)"
      ],
      "metadata": {
        "id": "AFHjbJtKSQle"
      },
      "execution_count": 30,
      "outputs": []
    },
    {
      "cell_type": "code",
      "source": [
        "# define initial conditions\n",
        "u_0 = utrue(x_0, t_0)\n",
        "u_01 = utrue(x_0, t_0 + dt)\n",
        "# plt.figure(1)\n",
        "# plt.plot(x_0, u_0, 'b')\n",
        "# plt.figure(2)\n",
        "# plt.plot(x_0, u_01, 'g')"
      ],
      "metadata": {
        "id": "-FJwCq3o903H"
      },
      "execution_count": 40,
      "outputs": []
    },
    {
      "cell_type": "code",
      "source": [
        "# # test analytical solution\n",
        "# x = np.linspace(xmin, xmax, 50)\n",
        "# t = np.linspace(tmin, tmax, 19)\n",
        "# for time in t:\n",
        "#   u = utrue(x,time)\n",
        "#   plt.figure(1)\n",
        "#   plt.plot(x,u,'k')\n",
        "#   plt.show()"
      ],
      "metadata": {
        "id": "w6Zfck-98g3A"
      },
      "execution_count": null,
      "outputs": []
    },
    {
      "cell_type": "code",
      "source": [
        "# plot grid points\n",
        "fig = plt.figure(figsize=(9,6))\n",
        "plt.scatter(t_0, x_0, c='k', marker='X')\n",
        "plt.scatter(t_b, x_lb, c='y', marker='.')\n",
        "plt.scatter(t_b, x_ub, c='b', marker='.')\n",
        "plt.scatter(t_r, x_r, c='r', marker='.', alpha=0.1)\n",
        "plt.xlabel('t')\n",
        "plt.ylabel('x')\n",
        "\n",
        "plt.title('Positions of collocation points and initial, boundary data');"
      ],
      "metadata": {
        "colab": {
          "base_uri": "https://localhost:8080/",
          "height": 463
        },
        "id": "SepuCbk81IV7",
        "outputId": "1ba77e10-ae90-47cc-9e17-3481b454c00c"
      },
      "execution_count": 33,
      "outputs": [
        {
          "output_type": "display_data",
          "data": {
            "text/plain": [
              "<Figure size 900x600 with 1 Axes>"
            ],
            "image/png": "[encoded data removed]"
          },
          "metadata": {}
        }
      ]
    },
    {
      "cell_type": "code",
      "source": [
        "# define residual of PDE\n",
        "def fun_r():\n",
        "  return"
      ],
      "metadata": {
        "id": "CG4FZILsH9Jz"
      },
      "execution_count": 34,
      "outputs": []
    },
    {
      "cell_type": "code",
      "source": [
        "N_r = 3\n",
        "\n",
        "t_r1 = tf.linspace(lb[0], ub[0], N_r)\n",
        "x_r1 = tf.linspace(lb[1], ub[1], N_r)\n",
        "\n",
        "t_r, x_r = tf.meshgrid(t_r1, x_r1)\n",
        "X_r = tf.concat([t_r, x_r], axis=1)\n",
        "# print(t_r, x_r)\n",
        "# print(X_r)\n",
        "\n",
        "# N_b = 3\n",
        "# t_boundary = tf.linspace(lb[0], ub[0], N_b)\n",
        "# t_b = tf.reshape(t_boundary, (N_b,1))\n",
        "# x_lb = tf.ones((N_b,1), dtype=DTYPE)*lb[1]\n",
        "# x_ub = tf.ones((N_b,1), dtype=DTYPE)*ub[1]\n",
        "# X_lb = tf.concat([t_b, x_lb], axis=1)\n",
        "# X_ub = tf.concat([t_b, x_ub], axis=1)\n",
        "# print(X_ub)"
      ],
      "metadata": {
        "id": "BO1QJZJC5VM9"
      },
      "execution_count": 29,
      "outputs": []
    }
  ]
}