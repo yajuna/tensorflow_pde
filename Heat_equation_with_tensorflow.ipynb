{
  "nbformat": 4,
  "nbformat_minor": 0,
  "metadata": {
    "colab": {
      "provenance": [],
      "authorship_tag": "ABX9TyOOaZdrjlIWFxiSW33+VQ1f",
      "include_colab_link": true
    },
    "kernelspec": {
      "name": "python3",
      "display_name": "Python 3"
    },
    "language_info": {
      "name": "python"
    }
  },
  "cells": [
    {
      "cell_type": "markdown",
      "metadata": {
        "id": "view-in-github",
        "colab_type": "text"
      },
      "source": [
        "<a href=\"https://colab.research.google.com/github/yajuna/tensorflow_pde/blob/master/Heat_equation_with_tensorflow.ipynb\" target=\"_parent\"><img src=\"https://colab.research.google.com/assets/colab-badge.svg\" alt=\"Open In Colab\"/></a>"
      ]
    },
    {
      "cell_type": "markdown",
      "source": [
        "This notebook solves the polar heat equation in one dimension\n",
        "\n",
        "$\\rho c \\frac{\\partial T}{\\partial t}=\\frac{\\partial k}{\\partial r}\\frac{\\partial T}{\\partial r}+\\frac{k}{r}\\frac{\\partial T}{\\partial r}+k\\frac{\\partial^2 T}{\\partial r^2}+\\text{source terms}$\n",
        "\n",
        "With the assumption that $\\frac{\\partial k}{\\partial r} = 0$, the equation simplifies to\n",
        "\n",
        "$\\rho c \\frac{\\partial T}{\\partial t}=\\frac{k}{r}\\frac{\\partial T}{\\partial r}+k\\frac{\\partial^2 T}{\\partial r^2}+\\text{source terms}$\n",
        "\n",
        "The initial condition is linearly interpolated from the measured core and bark temperatures at $t = 0$. Two boundary conditions are from the measured core and bark temperatures.\n",
        "\n",
        "We aim to solve the inverse problem for determining the parameters in the original continuous PDE.\n",
        "\n",
        "The inverse problem is formulated to be\n",
        "\n",
        "$\\frac{\\partial T}{\\partial t}=\\lambda_1\\frac{\\partial T}{\\partial r}+\\lambda_2\\frac{\\partial^2 T}{\\partial r^2}+\\lambda_3$\n",
        "\n",
        "and the Physics information is\n",
        "\n",
        "$\\text{residual} = \\frac{\\partial T}{\\partial t}-\\lambda_1\\frac{\\partial T}{\\partial r}-\\lambda_2\\frac{\\partial^2 T}{\\partial r^2}-\\lambda_3$\n"
      ],
      "metadata": {
        "id": "AgIpLMPFGGqp"
      }
    },
    {
      "cell_type": "code",
      "execution_count": null,
      "metadata": {
        "id": "gzL23xJFGFnJ"
      },
      "outputs": [],
      "source": [
        "import tensorflow as tf\n",
        "import numpy as np\n",
        "import matplotlib.pyplot as plt\n",
        "import pandas\n",
        "from time import time"
      ]
    },
    {
      "cell_type": "code",
      "source": [
        "# set data type and hyperparameters\n",
        "# import data\n",
        "\n",
        "DTYPE = 'float32'\n",
        "tf.keras.backend.set_floatx(DTYPE)\n",
        "\n",
        "EPOCH = 5000\n",
        "\n",
        "##### measured tree temperature for initial and boundary conditions. Need fixing\n",
        "# colnames_tree_temp = ['datetime', 's45_1', 'e9_1', 'n135_1','e45_2', 'n9_2', 'w135_2', 'n45_3', 'w9_3','s135_3', 'w_ext_35']\n",
        "# url1 = \"https://raw.githubusercontent.com/yajuna/linearRegression/master/Tree_Temp_Values_OCT21_to_OCT28_2022.xlsx\"\n",
        "# dataTemp = pandas.read_excel(url1,names=colnames_tree_temp)\n",
        "\n",
        "# train_tree_temp_index = 416 - 2\n",
        "\n",
        "# train_interp_temp_size = train_tree_temp_index\n",
        "\n",
        "# ### Initial and boundary conditions\n",
        "# # core temp is west, at 13.5cm, at 2m high\n",
        "# test_coreTemp = np.array(dataTemp.s135_3[train_tree_temp_index: test_tree_temp_index])+ 273.15\n",
        "# # West, at 9cm, at 3m high\n",
        "# test_midTemp1 = np.array(dataTemp.w9_3[train_tree_temp_index: test_tree_temp_index])+ 273.15\n",
        "# # North, at 4.5cm, at 3m high\n",
        "# test_midTemp2 = np.array(dataTemp.n45_3[train_tree_temp_index: test_tree_temp_index])+ 273.15\n",
        "# # bark temp is West, at bark, at 3.5m high\n",
        "# test_barkTemp = np.array(dataTemp.w_ext_35[train_tree_temp_index: test_tree_temp_index])+ 273.15\n",
        "\n",
        "# # linear interpolate the measured temperature\n",
        "# test_coreTemp = np. interp(time, np.linspace(0,24,test_interp_temp_size),test_coreTemp)\n",
        "# test_midTemp1 = np. interp(time, np.linspace(0,24,test_interp_temp_size),test_midTemp1)\n",
        "# test_midTemp2 = np. interp(time, np.linspace(0,24,test_interp_temp_size),test_midTemp2)\n",
        "# test_barkTemp = np. interp(time, np.linspace(0,24,test_interp_temp_size),test_barkTemp)\n",
        "\n",
        "\n",
        "# initTemp = np.array([test_coreTemp[0], test_midTemp1[0], test_midTemp2[0], test_barkTemp[0]])\n",
        "# init_temp = np.interp(np.linspace(0,radius,n_x), np.linspace(0,radius,initTemp.size),initTemp)"
      ],
      "metadata": {
        "id": "g5DmNcw3JbCK"
      },
      "execution_count": null,
      "outputs": []
    },
    {
      "cell_type": "markdown",
      "source": [
        "Linearly interpolate initial and boundary data according to the generated time and space collocation points."
      ],
      "metadata": {
        "id": "qrFTcU6kTv4d"
      }
    },
    {
      "cell_type": "code",
      "source": [
        "# Set number of data points\n",
        "N_0 = 500 # number of points in space\n",
        "N_b = 500 # number of points in time\n",
        "N_r = 100000\n",
        "\n",
        "# Set boundary\n",
        "tmin = 0.\n",
        "tmax = 24.\n",
        "xmin = 0.\n",
        "xmax = 0.135\n",
        "\n",
        "# Lower bounds in time and space\n",
        "lb = tf.constant([tmin, xmin], dtype=DTYPE)\n",
        "# Upper bounds in time and space\n",
        "ub = tf.constant([tmax, xmax], dtype=DTYPE)\n",
        "\n",
        "# Set random seed for reproducible results\n",
        "tf.random.set_seed(0)\n",
        "\n",
        "# Draw uniform sample points for initial boundary data; need N_0 == N_b for concat\n",
        "t_0 = tf.ones((N_0,1), dtype=DTYPE)*lb[0]\n",
        "x_0 = tf.random.uniform((N_0,1), lb[1], ub[1], dtype=DTYPE)\n",
        "X_0 = tf.concat([t_0, x_0], axis=1)\n",
        "\n",
        "# initial condition\n",
        "u_0 =\n",
        "\n",
        "# Boundary data- we compare left and right boundary at give time steps.\n",
        "t_b = tf.random.uniform((N_b,1), lb[0], ub[0], dtype=DTYPE)\n",
        "x_lb = tf.ones((N_b,1), dtype=DTYPE)*lb[1]\n",
        "x_ub = tf.ones((N_b,1), dtype=DTYPE)*ub[1]\n",
        "X_lb = tf.concat([t_b, x_lb], axis=1)\n",
        "X_ub = tf.concat([t_b, x_ub], axis=1)\n",
        "\n",
        "# Boundary condition are evaluated in the loss function\n",
        "# u(t_b, x_lb) = u(t_b, x_ub)\n",
        "\n",
        "# Draw uniformly sampled collocation points\n",
        "t_r = tf.random.uniform((N_r,1), lb[0], ub[0], dtype=DTYPE)\n",
        "x_r = tf.random.uniform((N_r,1), lb[1], ub[1], dtype=DTYPE)\n",
        "X_r = tf.concat([t_r, x_r], axis=1)\n",
        "\n",
        "# # Collect boundary and inital data in lists<----- not needed in this code; no u_b\n",
        "# X_data = [X_0, X_b]\n",
        "# u_data = [u_0, u_b]"
      ],
      "metadata": {
        "id": "h7_brf6eU9q4"
      },
      "execution_count": null,
      "outputs": []
    }
  ]
}